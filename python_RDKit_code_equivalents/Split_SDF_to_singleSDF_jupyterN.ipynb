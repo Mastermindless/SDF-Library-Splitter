{
 "cells": [
  {
   "cell_type": "code",
   "execution_count": 2,
   "id": "38626fda-1bd2-4c5a-8d5f-6fe80f9cafbb",
   "metadata": {},
   "outputs": [],
   "source": [
    "from rdkit import Chem\n",
    "from rdkit.Chem import SDWriter\n",
    "import os\n"
   ]
  },
  {
   "cell_type": "code",
   "execution_count": 4,
   "id": "2387695a-e747-4eb4-9c09-34da1874fbab",
   "metadata": {},
   "outputs": [],
   "source": [
    "# Path to the input .sdf file containing multiple compounds\n",
    "input_sdf_path = 'unique_molecules_from_you.sdf'  # Replace with your actual .sdf file path\n",
    "\n",
    "# Directory to save the individual .sdf files\n",
    "output_directory = 'path/toYour/DirectoryOfChoice'  # Replace with your desired output directory"
   ]
  },
  {
   "cell_type": "code",
   "execution_count": 6,
   "id": "3d2353e7-1679-4d84-819c-54cd559a8d69",
   "metadata": {},
   "outputs": [
    {
     "ename": "OSError",
     "evalue": "File error: Bad input file unique_molecules_from_you.sdf",
     "output_type": "error",
     "traceback": [
      "\u001b[0;31m---------------------------------------------------------------------------\u001b[0m",
      "\u001b[0;31mOSError\u001b[0m                                   Traceback (most recent call last)",
      "Cell \u001b[0;32mIn[6], line 5\u001b[0m\n\u001b[1;32m      2\u001b[0m os\u001b[38;5;241m.\u001b[39mmakedirs(output_directory, exist_ok\u001b[38;5;241m=\u001b[39m\u001b[38;5;28;01mTrue\u001b[39;00m)\n\u001b[1;32m      4\u001b[0m \u001b[38;5;66;03m# Read the input .sdf file\u001b[39;00m\n\u001b[0;32m----> 5\u001b[0m supplier \u001b[38;5;241m=\u001b[39m \u001b[43mChem\u001b[49m\u001b[38;5;241;43m.\u001b[39;49m\u001b[43mSDMolSupplier\u001b[49m\u001b[43m(\u001b[49m\u001b[43minput_sdf_path\u001b[49m\u001b[43m)\u001b[49m\n\u001b[1;32m      7\u001b[0m \u001b[38;5;66;03m# Iterate over each molecule in the .sdf file\u001b[39;00m\n\u001b[1;32m      8\u001b[0m \u001b[38;5;28;01mfor\u001b[39;00m i, mol \u001b[38;5;129;01min\u001b[39;00m \u001b[38;5;28menumerate\u001b[39m(supplier):\n",
      "\u001b[0;31mOSError\u001b[0m: File error: Bad input file unique_molecules_from_you.sdf"
     ]
    }
   ],
   "source": [
    "# Create the output directory if it doesn't exist\n",
    "os.makedirs(output_directory, exist_ok=True)\n",
    "\n",
    "# Read the input .sdf file\n",
    "supplier = Chem.SDMolSupplier(input_sdf_path)\n",
    "\n",
    "# Iterate over each molecule in the .sdf file\n",
    "for i, mol in enumerate(supplier):\n",
    "    if mol is not None:\n",
    "        # Get the value of the <FileName> feature\n",
    "        file_name = mol.GetProp(\"FileName\")\n",
    "        \n",
    "        # Construct the full path for the output .sdf file\n",
    "        output_sdf_path = os.path.join(output_directory, f\"{file_name}.sdf\")\n",
    "        \n",
    "        # Write the molecule to its own .sdf file\n",
    "        with SDWriter(output_sdf_path) as writer:\n",
    "            writer.write(mol)\n",
    "\n",
    "print(f\"Single .sdf files have been saved in {output_directory}\")\n",
    "\n"
   ]
  },
  {
   "cell_type": "code",
   "execution_count": null,
   "id": "34a14806-cafd-424e-a1f0-b62915e2063f",
   "metadata": {},
   "outputs": [],
   "source": []
  }
 ],
 "metadata": {
  "kernelspec": {
   "display_name": "Python (RDkit_jupyter)",
   "language": "python",
   "name": "rdkit_jupyter"
  },
  "language_info": {
   "codemirror_mode": {
    "name": "ipython",
    "version": 3
   },
   "file_extension": ".py",
   "mimetype": "text/x-python",
   "name": "python",
   "nbconvert_exporter": "python",
   "pygments_lexer": "ipython3",
   "version": "3.9.19"
  }
 },
 "nbformat": 4,
 "nbformat_minor": 5
}
