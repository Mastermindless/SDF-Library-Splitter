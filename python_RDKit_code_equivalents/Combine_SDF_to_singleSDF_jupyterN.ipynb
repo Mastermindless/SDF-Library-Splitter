{
 "cells": [
  {
   "cell_type": "code",
   "execution_count": 2,
   "id": "788a0c0b-ed3c-4ae3-b062-7313f767e48e",
   "metadata": {},
   "outputs": [],
   "source": [
    "import os\n",
    "from rdkit import Chem\n",
    "from rdkit.Chem import SDWriter"
   ]
  },
  {
   "cell_type": "code",
   "execution_count": 4,
   "id": "e2ad1a6e-8ee8-4ba5-b853-4a03995eaf1a",
   "metadata": {},
   "outputs": [],
   "source": [
    "# Directory containing the SDF files\n",
    "directory = 'path/toInput/Directory'  # Replace with the correct path\n",
    "\n",
    "# Dictionary to store unique molecules with their canonical SMILES as the key\n",
    "unique_molecules = {}\n",
    "duplicate_molecules = {}"
   ]
  },
  {
   "cell_type": "code",
   "execution_count": 6,
   "id": "5179d70b-6ccc-4d13-86ad-337f0f7ad2e4",
   "metadata": {},
   "outputs": [
    {
     "ename": "FileNotFoundError",
     "evalue": "[Errno 2] No such file or directory: 'path/toInput/Directory'",
     "output_type": "error",
     "traceback": [
      "\u001b[0;31m---------------------------------------------------------------------------\u001b[0m",
      "\u001b[0;31mFileNotFoundError\u001b[0m                         Traceback (most recent call last)",
      "Cell \u001b[0;32mIn[6], line 2\u001b[0m\n\u001b[1;32m      1\u001b[0m \u001b[38;5;66;03m# Iterate over all files in the directory\u001b[39;00m\n\u001b[0;32m----> 2\u001b[0m \u001b[38;5;28;01mfor\u001b[39;00m filename \u001b[38;5;129;01min\u001b[39;00m \u001b[43mos\u001b[49m\u001b[38;5;241;43m.\u001b[39;49m\u001b[43mlistdir\u001b[49m\u001b[43m(\u001b[49m\u001b[43mdirectory\u001b[49m\u001b[43m)\u001b[49m:\n\u001b[1;32m      3\u001b[0m     \u001b[38;5;28;01mif\u001b[39;00m filename\u001b[38;5;241m.\u001b[39mendswith(\u001b[38;5;124m\"\u001b[39m\u001b[38;5;124m.sdf\u001b[39m\u001b[38;5;124m\"\u001b[39m):\n\u001b[1;32m      4\u001b[0m         file_path \u001b[38;5;241m=\u001b[39m os\u001b[38;5;241m.\u001b[39mpath\u001b[38;5;241m.\u001b[39mjoin(directory, filename)\n",
      "\u001b[0;31mFileNotFoundError\u001b[0m: [Errno 2] No such file or directory: 'path/toInput/Directory'"
     ]
    }
   ],
   "source": [
    "# Iterate over all files in the directory\n",
    "for filename in os.listdir(directory):\n",
    "    if filename.endswith(\".sdf\"):\n",
    "        file_path = os.path.join(directory, filename)\n",
    "        \n",
    "        # Read the SDF file\n",
    "        supplier = Chem.SDMolSupplier(file_path)\n",
    "        \n",
    "        # Iterate over all molecules in the SDF file\n",
    "        for mol in supplier:\n",
    "            if mol is not None:\n",
    "                # Get the canonical SMILES for the molecule\n",
    "                canonical_smiles = Chem.MolToSmiles(mol, canonical=True)\n",
    "                \n",
    "                if canonical_smiles in unique_molecules:\n",
    "                    # If the molecule is a duplicate, add it to the duplicate list\n",
    "                    if canonical_smiles not in duplicate_molecules:\n",
    "                        duplicate_molecules[canonical_smiles] = []\n",
    "                    duplicate_molecules[canonical_smiles].append((filename, mol))\n",
    "                else:\n",
    "                    # Add the file name as a feature to the molecule\n",
    "                    mol.SetProp(\"FileName\", filename)\n",
    "                    \n",
    "                    # Store the unique molecule\n",
    "                    unique_molecules[canonical_smiles] = mol\n",
    "\n",
    "# Output file paths\n",
    "output_sdf = os.path.join(directory, 'unique_molecules.sdf')\n",
    "duplicates_txt = os.path.join(directory, 'duplicates_molecules.txt')\n",
    "duplicates_sdf = os.path.join(directory, 'duplicates_molecules.sdf')\n",
    "\n",
    "# Write the unique molecules to a new SDF file\n",
    "with SDWriter(output_sdf) as writer:\n",
    "    for mol in unique_molecules.values():\n",
    "        writer.write(mol)\n",
    "\n",
    "# Write duplicate molecules and their file names to the respective files\n",
    "with open(duplicates_txt, 'w') as txt_writer, SDWriter(duplicates_sdf) as sdf_writer:\n",
    "    if duplicate_molecules:\n",
    "        txt_writer.write(\"Duplicate molecules found:\\n\")\n",
    "        for smiles, duplicates in duplicate_molecules.items():\n",
    "            txt_writer.write(f\"Canonical SMILES: {smiles}\\n\")\n",
    "            for filename, mol in duplicates:\n",
    "                txt_writer.write(f\" - Found in file: {filename}\\n\")\n",
    "                # Write the duplicate molecule to the SDF file\n",
    "                sdf_writer.write(mol)\n",
    "    else:\n",
    "        txt_writer.write(\"No duplicate molecules found.\\n\")\n",
    "\n",
    "print(f\"Unique molecules SDF file saved as {output_sdf}\")\n",
    "print(f\"Duplicate molecules list saved as {duplicates_txt}\")\n",
    "print(f\"Duplicate molecules SDF file saved as {duplicates_sdf}\")\n"
   ]
  },
  {
   "cell_type": "code",
   "execution_count": null,
   "id": "5c9c3cf0-3551-478a-9e62-eb836646de14",
   "metadata": {},
   "outputs": [],
   "source": []
  }
 ],
 "metadata": {
  "kernelspec": {
   "display_name": "Python (RDkit_jupyter)",
   "language": "python",
   "name": "rdkit_jupyter"
  },
  "language_info": {
   "codemirror_mode": {
    "name": "ipython",
    "version": 3
   },
   "file_extension": ".py",
   "mimetype": "text/x-python",
   "name": "python",
   "nbconvert_exporter": "python",
   "pygments_lexer": "ipython3",
   "version": "3.9.19"
  }
 },
 "nbformat": 4,
 "nbformat_minor": 5
}
